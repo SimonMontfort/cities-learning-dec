{
 "cells": [
  {
   "cell_type": "code",
   "execution_count": 2,
   "id": "901befdb-3276-464e-883e-1a687982f891",
   "metadata": {},
   "outputs": [],
   "source": [
    "import geopandas as gpd\n",
    "import pandas as pd\n",
    "import numpy as np\n",
    "from sklearn.preprocessing import LabelEncoder, StandardScaler\n",
    "from keras.layers import Input, Dense\n",
    "from keras.models import Model\n",
    "from keras.optimizers import Adam\n",
    "from keras.initializers import VarianceScaling\n",
    "from sklearn.cluster import KMeans\n",
    "import os\n",
    "from torch.optim import SGD\n",
    "import geopandas as gpd\n",
    "import tensorflow as tf\n",
    "import matplotlib.pyplot as plt\n",
    "\n",
    "os.chdir('/Users/simon/Documents/repo/cities-learning')\n",
    "os.environ[\"OMP_NUM_THREADS\"] = '6'"
   ]
  },
  {
   "cell_type": "code",
   "execution_count": 3,
   "id": "c7a43105",
   "metadata": {},
   "outputs": [],
   "source": [
    "cities_clean = pd.read_parquet('data/clustering_data_clean/GHS_UCDB_2024_preproc_2025_04_09_uci_and_nan_imputation.parquet', engine='pyarrow')\n",
    "ghsl = gpd.read_file(\"data/GHS_UCDB_GLOBE_R2024A_V1_0/GHS_UCDB_GLOBE_R2024A_small.gpkg\")"
   ]
  },
  {
   "cell_type": "code",
   "execution_count": 4,
   "id": "15b46ff9-3739-4e1d-8130-f0b48c85d1e9",
   "metadata": {},
   "outputs": [
    {
     "name": "stdout",
     "output_type": "stream",
     "text": [
      "       ID_UC_G0 GC_UCN_MAI_2025   GC_CNT_GAD_2025  GC_UCA_KM2_2025  \\\n",
      "0             1            Apia             Samoa             35.0   \n",
      "1             2      Nuku'alofa             Tonga             20.0   \n",
      "2             3       Ewa Beach     United States             15.0   \n",
      "3             4         Papeete  French Polynesia             50.0   \n",
      "4             5        Rosarito            México             29.0   \n",
      "...         ...             ...               ...              ...   \n",
      "11417     11682          Yuhuan             China             54.0   \n",
      "11418     11683         Dongtou             China             11.0   \n",
      "11419     11684         Songmen             China             24.0   \n",
      "11420     11685         Shitang             China             32.0   \n",
      "11421     11686         Pingtan             China             15.0   \n",
      "\n",
      "       GC_POP_TOT_2025 GC_DEV_WIG_2025                  GC_DEV_USR_2025  \\\n",
      "0             60041.66    Lower Middle                          Oceania   \n",
      "1             51990.77    Upper Middle                          Oceania   \n",
      "2             53720.66     High income                 Northern America   \n",
      "3            109747.13     High income                          Oceania   \n",
      "4             76707.06    Upper Middle  Latin America and the Caribbean   \n",
      "...                ...             ...                              ...   \n",
      "11417        250172.87    Upper Middle   Eastern and South-Eastern Asia   \n",
      "11418         54241.79    Upper Middle   Eastern and South-Eastern Asia   \n",
      "11419         80163.52    Upper Middle   Eastern and South-Eastern Asia   \n",
      "11420         73415.89    Upper Middle   Eastern and South-Eastern Asia   \n",
      "11421        107085.10    Upper Middle   Eastern and South-Eastern Asia   \n",
      "\n",
      "       CL_B01_CUR_1970  CL_B01_CUR_1980  CL_B01_CUR_1990  ...  \\\n",
      "0               26.560           26.477           26.648  ...   \n",
      "1               23.792           23.780           23.830  ...   \n",
      "2               23.934           24.103           24.097  ...   \n",
      "3               25.315           25.509           25.616  ...   \n",
      "4               16.100           16.286           16.350  ...   \n",
      "...                ...              ...              ...  ...   \n",
      "11417           18.246           17.968           18.470  ...   \n",
      "11418           18.299           18.033           18.533  ...   \n",
      "11419           18.195           17.859           18.441  ...   \n",
      "11420           18.194           17.881           18.424  ...   \n",
      "11421           20.345           20.134           20.445  ...   \n",
      "\n",
      "       CL_LCZ_A08_2025  CL_LCZ_A09_2025  CL_LCZ_A10_2025  CL_LCZ_A11_2025  \\\n",
      "0                    -                -                -                -   \n",
      "1                    -                -                -                -   \n",
      "2                    -                -                -                -   \n",
      "3                    -                -                -                -   \n",
      "4               29.781            2.471            0.029                -   \n",
      "...                ...              ...              ...              ...   \n",
      "11417           17.491            1.336            0.033            6.252   \n",
      "11418           16.953            1.355                -           13.131   \n",
      "11419           22.232            3.931            2.159            4.977   \n",
      "11420           15.085            5.513                -            4.970   \n",
      "11421           26.297            1.574            0.842            4.757   \n",
      "\n",
      "       CL_LCZ_A12_2025  CL_LCZ_A13_2025  CL_LCZ_A14_2025  CL_LCZ_A15_2025  \\\n",
      "0                    -                -                -                -   \n",
      "1                    -                -                -                -   \n",
      "2                    -                -                -                -   \n",
      "3                    -                -                -                -   \n",
      "4                0.029            0.058            8.190            0.379   \n",
      "...                ...              ...              ...              ...   \n",
      "11417            7.186                -            1.895            0.061   \n",
      "11418            2.743                -            0.201                -   \n",
      "11419            2.772                -           15.383                -   \n",
      "11420            6.104                -            3.608            0.055   \n",
      "11421            2.673                -            1.268            0.359   \n",
      "\n",
      "       CL_LCZ_A16_2025  CL_LCZ_A17_2025  \n",
      "0                    -                -  \n",
      "1                    -                -  \n",
      "2                    -                -  \n",
      "3                    -                -  \n",
      "4                3.211            0.058  \n",
      "...                ...              ...  \n",
      "11417            0.180            1.043  \n",
      "11418            0.378            0.241  \n",
      "11419            0.104            1.059  \n",
      "11420            0.330            1.486  \n",
      "11421            0.836            0.060  \n",
      "\n",
      "[11422 rows x 103 columns]\n"
     ]
    },
    {
     "name": "stderr",
     "output_type": "stream",
     "text": [
      "/var/folders/mw/kjygj08j7xb2hcdn_2nhkp880000gp/T/ipykernel_49985/1454713043.py:2: DtypeWarning: Columns (52,53,54,55,56,57,58,59,60,61,62,63,64,65,66,67) have mixed types. Specify dtype option on import or set low_memory=False.\n",
      "  climate_df = pd.read_csv(\"data/GHS_UCDB_GLOBE_R2024A_V1_0/GHS_UCDB_THEME_CLIMATE_GLOBE_R2024A.csv\")\n"
     ]
    }
   ],
   "source": [
    "# merge precipitation to the clean data\n",
    "climate_df = pd.read_csv(\"data/GHS_UCDB_GLOBE_R2024A_V1_0/GHS_UCDB_THEME_CLIMATE_GLOBE_R2024A.csv\")\n",
    "print(climate_df)\n",
    "climate_df = climate_df[['ID_UC_G0', 'CL_B12_CUR_2010']]\n",
    "cities_clean = cities_clean.merge(climate_df, left_on='GHS_urban_area_id', right_on='ID_UC_G0', how='left')\n",
    "# Drop the duplicate column if you don't need both IDs\n",
    "cities_clean.drop(columns='ID_UC_G0', inplace=True)"
   ]
  },
  {
   "cell_type": "code",
   "execution_count": 5,
   "id": "fba862eb-a4da-47bb-a57c-7662f86bb091",
   "metadata": {},
   "outputs": [
    {
     "name": "stderr",
     "output_type": "stream",
     "text": [
      "/var/folders/mw/kjygj08j7xb2hcdn_2nhkp880000gp/T/ipykernel_49985/3761349445.py:2: FutureWarning: The geopandas.dataset module is deprecated and will be removed in GeoPandas 1.0. You can get the original 'naturalearth_lowres' data from https://www.naturalearthdata.com/downloads/110m-cultural-vectors/.\n",
      "  world = gpd.read_file(gpd.datasets.get_path(\"naturalearth_lowres\"))\n"
     ]
    }
   ],
   "source": [
    "# Load world boundaries\n",
    "world = gpd.read_file(gpd.datasets.get_path(\"naturalearth_lowres\"))"
   ]
  },
  {
   "cell_type": "code",
   "execution_count": 6,
   "id": "04706ce7-032b-4fd6-b7bc-47faaf60c29b",
   "metadata": {},
   "outputs": [
    {
     "name": "stdout",
     "output_type": "stream",
     "text": [
      "['GHS_urban_area_id', 'GHS_urban_area', 'GHS_country', 'GHS_region', 'continent', 'hdd', 'cdd', 'uci', 'GHS_population', 'GHS_population_density', 'GHS_GDP_PPP', 'GHS_built_up_area_pc', 'GHS_population_growth', 'GHS_population_density_growth', 'GHS_GDP_PPP_growth', 'GHS_built_up_area_pc_growth', 'GHS_urban_sprawl', 'geometry', 'CL_B12_CUR_2010']\n",
      "{'Asia', 'Oceania', 'Australia', 'Africa', 'Europe', 'North America', 'South America'}\n",
      "0        1\n",
      "1        1\n",
      "2        0\n",
      "3        1\n",
      "4        0\n",
      "        ..\n",
      "11417    0\n",
      "11418    0\n",
      "11419    0\n",
      "11420    0\n",
      "11421    0\n",
      "Name: Oceania, Length: 11422, dtype: int64\n"
     ]
    }
   ],
   "source": [
    "print(cities_clean.columns.values.tolist())\n",
    "\n",
    "print(set(cities_clean['continent']))\n",
    "\n",
    "cities_clean['North America'] = (cities_clean['continent'] == 'North America')*1\n",
    "cities_clean['South America'] = (cities_clean['continent'] == 'South America')*1\n",
    "cities_clean['Europe'] = (cities_clean['continent'] == 'Europe')*1\n",
    "cities_clean['Africa'] = (cities_clean['continent'] == 'Africa')*1\n",
    "cities_clean['Asia'] = (cities_clean['continent'] == 'Asia')*1\n",
    "cities_clean['Oceania'] = (cities_clean['continent'].isin(['Oceania','Australia']))*1\n",
    "\n",
    "print(cities_clean['Oceania'])\n",
    "\n",
    "\n",
    "\n",
    "# Define the variables for clustering\n",
    "variables = ['GHS_population', 'GHS_population_growth', \n",
    "             'GHS_population_density', 'GHS_population_density_growth', \n",
    "             'GHS_GDP_PPP', 'GHS_GDP_PPP_growth', \n",
    "             # 'GHS_built_up_area_pc', 'GHS_built_up_area_pc_growth', \n",
    "             \"CL_B12_CUR_2010\",\n",
    "             'hdd', 'cdd' \n",
    "\n",
    "             # 'Africa', 'Asia', 'Europe', 'North America', 'Oceania', 'South America'\n",
    "            ]\n",
    "\n"
   ]
  },
  {
   "cell_type": "code",
   "execution_count": 7,
   "id": "8f5d366c-a501-440c-a6e1-f9caf2e64c9a",
   "metadata": {},
   "outputs": [
    {
     "data": {
      "image/png": "[encoded data removed]",
      "text/plain": [
       "<Figure size 1000x500 with 1 Axes>"
      ]
     },
     "metadata": {},
     "output_type": "display_data"
    }
   ],
   "source": [
    "cities_clean_sub = cities_clean[variables + ['GHS_urban_area_id']].copy()\n",
    "\n",
    "import matplotlib.pyplot as plt\n",
    "import seaborn as sns\n",
    "\n",
    "missing_values = cities_clean_sub.apply(pd.to_numeric, errors='coerce').isna().sum()\n",
    "\n",
    "# Plotting\n",
    "plt.figure(figsize=(10, 5))\n",
    "sns.set_theme(style=\"whitegrid\", font_scale=1.2)\n",
    "\n",
    "ax = sns.barplot(x=missing_values.index, y=missing_values.values, palette=\"viridis\")\n",
    "\n",
    "# Formatting\n",
    "plt.xticks(rotation=45, ha='right')  # Rotate labels\n",
    "plt.ylabel(\"Missing Values Count\")\n",
    "plt.xlabel(\"Columns\")\n",
    "plt.title(\"Missing Values Per Column in Dataset\")\n",
    "plt.tight_layout()\n",
    "\n",
    "# Show the plot\n",
    "plt.show()"
   ]
  },
  {
   "cell_type": "code",
   "execution_count": 9,
   "id": "83eb6101",
   "metadata": {},
   "outputs": [
    {
     "name": "stdout",
     "output_type": "stream",
     "text": [
      "Infinite values per column:\n",
      "Series([], dtype: int64)\n"
     ]
    }
   ],
   "source": [
    "# columns with infinite values\n",
    "inf_columns = (cities_clean_sub == np.inf).sum() + (cities_clean_sub == -np.inf).sum()\n",
    "print(\"Infinite values per column:\")\n",
    "print(inf_columns[inf_columns > 0])\n",
    "\n",
    "# rows with infinite values per column\n",
    "for column in inf_columns[inf_columns > 0].index:\n",
    "    inf_rows_in_column = cities_clean_sub[cities_clean_sub[column].isin([np.inf, -np.inf])]\n",
    "    print(f\"Rows with infinite values in column '{column}' (IDs):\")\n",
    "    print(inf_rows_in_column['GHS_urban_area_id'].unique())  # Ensures unique IDs"
   ]
  },
  {
   "cell_type": "code",
   "execution_count": 10,
   "id": "94f82c01",
   "metadata": {},
   "outputs": [
    {
     "name": "stdout",
     "output_type": "stream",
     "text": [
      "                  0             1             2             3             4  \\\n",
      "count  1.142200e+04  1.142200e+04  1.142200e+04  1.142200e+04  1.142200e+04   \n",
      "mean  -1.430790e-17  1.393465e-16 -7.464991e-18 -1.990664e-17  5.971993e-17   \n",
      "std    1.000044e+00  1.000044e+00  1.000044e+00  1.000044e+00  1.000044e+00   \n",
      "min   -2.072827e-01 -4.767958e+00 -1.968914e-01 -5.706158e+00 -8.803907e-01   \n",
      "25%   -1.924796e-01 -5.453164e-01 -1.264056e-01 -5.156034e-01 -6.285127e-01   \n",
      "50%   -1.661309e-01 -1.393820e-01 -7.561611e-02  3.919674e-02 -3.159858e-01   \n",
      "75%   -8.962175e-02  3.608087e-01  1.231758e-02  5.099125e-01  1.986851e-01   \n",
      "max    3.243664e+01  1.478191e+01  8.730984e+01  1.421876e+01  1.341775e+01   \n",
      "\n",
      "                  5             6             7             8  \n",
      "count  1.142200e+04  1.142200e+04  1.142200e+04  1.142200e+04  \n",
      "mean  -1.393465e-16 -6.718492e-17  1.592531e-16 -4.976661e-17  \n",
      "std    1.000044e+00  1.000044e+00  1.000044e+00  1.000044e+00  \n",
      "min   -4.323977e+00 -1.337832e+00 -8.107505e-01 -1.624478e+00  \n",
      "25%   -6.621647e-01 -6.235235e-01 -7.872778e-01 -9.213424e-01  \n",
      "50%   -8.389735e-02 -1.870334e-01 -5.066226e-01 -6.352081e-02  \n",
      "75%    5.909078e-01  4.150844e-01  5.584183e-01  9.524330e-01  \n",
      "max    9.327063e+00  2.399807e+01  6.199522e+00  2.410955e+00  \n"
     ]
    }
   ],
   "source": [
    "scaler = StandardScaler() # mean of 0, se. of 1\n",
    "\n",
    "cities_clean_scaled = scaler.fit_transform(cities_clean_sub[variables])\n",
    "\n",
    "# Display scaled data summary\n",
    "print(pd.DataFrame(cities_clean_scaled).describe())"
   ]
  },
  {
   "cell_type": "code",
   "execution_count": 11,
   "id": "83d8dc4e-ba3f-4c9c-88a6-1d907d64bdf7",
   "metadata": {},
   "outputs": [
    {
     "name": "stdout",
     "output_type": "stream",
     "text": [
      "Reloading Tuner from hyperband/DEC_model_tuning_run3/tuner0.json\n"
     ]
    },
    {
     "name": "stderr",
     "output_type": "stream",
     "text": [
      "/opt/anaconda3/lib/python3.11/site-packages/keras/src/saving/saving_lib.py:757: UserWarning: Skipping variable loading for optimizer 'adam', because it has 2 variables whereas the saved optimizer has 26 variables. \n",
      "  saveable.load_own_variables(weights_store.get(inner_path))\n"
     ]
    },
    {
     "data": {
      "text/html": [
       "<pre style=\"white-space:pre;overflow-x:auto;line-height:normal;font-family:Menlo,'DejaVu Sans Mono',consolas,'Courier New',monospace\"><span style=\"font-weight: bold\">Model: \"functional\"</span>\n",
       "</pre>\n"
      ],
      "text/plain": [
       "\u001b[1mModel: \"functional\"\u001b[0m\n"
      ]
     },
     "metadata": {},
     "output_type": "display_data"
    },
    {
     "data": {
      "text/html": [
       "<pre style=\"white-space:pre;overflow-x:auto;line-height:normal;font-family:Menlo,'DejaVu Sans Mono',consolas,'Courier New',monospace\">┏━━━━━━━━━━━━━━━━━━━━━━━━━━━━━━━━━┳━━━━━━━━━━━━━━━━━━━━━━━━┳━━━━━━━━━━━━━━━┓\n",
       "┃<span style=\"font-weight: bold\"> Layer (type)                    </span>┃<span style=\"font-weight: bold\"> Output Shape           </span>┃<span style=\"font-weight: bold\">       Param # </span>┃\n",
       "┡━━━━━━━━━━━━━━━━━━━━━━━━━━━━━━━━━╇━━━━━━━━━━━━━━━━━━━━━━━━╇━━━━━━━━━━━━━━━┩\n",
       "│ input_layer (<span style=\"color: #0087ff; text-decoration-color: #0087ff\">InputLayer</span>)        │ (<span style=\"color: #00d7ff; text-decoration-color: #00d7ff\">None</span>, <span style=\"color: #00af00; text-decoration-color: #00af00\">9</span>)              │             <span style=\"color: #00af00; text-decoration-color: #00af00\">0</span> │\n",
       "├─────────────────────────────────┼────────────────────────┼───────────────┤\n",
       "│ dense (<span style=\"color: #0087ff; text-decoration-color: #0087ff\">Dense</span>)                   │ (<span style=\"color: #00d7ff; text-decoration-color: #00d7ff\">None</span>, <span style=\"color: #00af00; text-decoration-color: #00af00\">16</span>)             │           <span style=\"color: #00af00; text-decoration-color: #00af00\">160</span> │\n",
       "├─────────────────────────────────┼────────────────────────┼───────────────┤\n",
       "│ dense_1 (<span style=\"color: #0087ff; text-decoration-color: #0087ff\">Dense</span>)                 │ (<span style=\"color: #00d7ff; text-decoration-color: #00d7ff\">None</span>, <span style=\"color: #00af00; text-decoration-color: #00af00\">16</span>)             │           <span style=\"color: #00af00; text-decoration-color: #00af00\">272</span> │\n",
       "├─────────────────────────────────┼────────────────────────┼───────────────┤\n",
       "│ dense_2 (<span style=\"color: #0087ff; text-decoration-color: #0087ff\">Dense</span>)                 │ (<span style=\"color: #00d7ff; text-decoration-color: #00d7ff\">None</span>, <span style=\"color: #00af00; text-decoration-color: #00af00\">5</span>)              │            <span style=\"color: #00af00; text-decoration-color: #00af00\">85</span> │\n",
       "├─────────────────────────────────┼────────────────────────┼───────────────┤\n",
       "│ dense_3 (<span style=\"color: #0087ff; text-decoration-color: #0087ff\">Dense</span>)                 │ (<span style=\"color: #00d7ff; text-decoration-color: #00d7ff\">None</span>, <span style=\"color: #00af00; text-decoration-color: #00af00\">48</span>)             │           <span style=\"color: #00af00; text-decoration-color: #00af00\">288</span> │\n",
       "├─────────────────────────────────┼────────────────────────┼───────────────┤\n",
       "│ dense_4 (<span style=\"color: #0087ff; text-decoration-color: #0087ff\">Dense</span>)                 │ (<span style=\"color: #00d7ff; text-decoration-color: #00d7ff\">None</span>, <span style=\"color: #00af00; text-decoration-color: #00af00\">16</span>)             │           <span style=\"color: #00af00; text-decoration-color: #00af00\">784</span> │\n",
       "├─────────────────────────────────┼────────────────────────┼───────────────┤\n",
       "│ dense_5 (<span style=\"color: #0087ff; text-decoration-color: #0087ff\">Dense</span>)                 │ (<span style=\"color: #00d7ff; text-decoration-color: #00d7ff\">None</span>, <span style=\"color: #00af00; text-decoration-color: #00af00\">9</span>)              │           <span style=\"color: #00af00; text-decoration-color: #00af00\">153</span> │\n",
       "└─────────────────────────────────┴────────────────────────┴───────────────┘\n",
       "</pre>\n"
      ],
      "text/plain": [
       "┏━━━━━━━━━━━━━━━━━━━━━━━━━━━━━━━━━┳━━━━━━━━━━━━━━━━━━━━━━━━┳━━━━━━━━━━━━━━━┓\n",
       "┃\u001b[1m \u001b[0m\u001b[1mLayer (type)                   \u001b[0m\u001b[1m \u001b[0m┃\u001b[1m \u001b[0m\u001b[1mOutput Shape          \u001b[0m\u001b[1m \u001b[0m┃\u001b[1m \u001b[0m\u001b[1m      Param #\u001b[0m\u001b[1m \u001b[0m┃\n",
       "┡━━━━━━━━━━━━━━━━━━━━━━━━━━━━━━━━━╇━━━━━━━━━━━━━━━━━━━━━━━━╇━━━━━━━━━━━━━━━┩\n",
       "│ input_layer (\u001b[38;5;33mInputLayer\u001b[0m)        │ (\u001b[38;5;45mNone\u001b[0m, \u001b[38;5;34m9\u001b[0m)              │             \u001b[38;5;34m0\u001b[0m │\n",
       "├─────────────────────────────────┼────────────────────────┼───────────────┤\n",
       "│ dense (\u001b[38;5;33mDense\u001b[0m)                   │ (\u001b[38;5;45mNone\u001b[0m, \u001b[38;5;34m16\u001b[0m)             │           \u001b[38;5;34m160\u001b[0m │\n",
       "├─────────────────────────────────┼────────────────────────┼───────────────┤\n",
       "│ dense_1 (\u001b[38;5;33mDense\u001b[0m)                 │ (\u001b[38;5;45mNone\u001b[0m, \u001b[38;5;34m16\u001b[0m)             │           \u001b[38;5;34m272\u001b[0m │\n",
       "├─────────────────────────────────┼────────────────────────┼───────────────┤\n",
       "│ dense_2 (\u001b[38;5;33mDense\u001b[0m)                 │ (\u001b[38;5;45mNone\u001b[0m, \u001b[38;5;34m5\u001b[0m)              │            \u001b[38;5;34m85\u001b[0m │\n",
       "├─────────────────────────────────┼────────────────────────┼───────────────┤\n",
       "│ dense_3 (\u001b[38;5;33mDense\u001b[0m)                 │ (\u001b[38;5;45mNone\u001b[0m, \u001b[38;5;34m48\u001b[0m)             │           \u001b[38;5;34m288\u001b[0m │\n",
       "├─────────────────────────────────┼────────────────────────┼───────────────┤\n",
       "│ dense_4 (\u001b[38;5;33mDense\u001b[0m)                 │ (\u001b[38;5;45mNone\u001b[0m, \u001b[38;5;34m16\u001b[0m)             │           \u001b[38;5;34m784\u001b[0m │\n",
       "├─────────────────────────────────┼────────────────────────┼───────────────┤\n",
       "│ dense_5 (\u001b[38;5;33mDense\u001b[0m)                 │ (\u001b[38;5;45mNone\u001b[0m, \u001b[38;5;34m9\u001b[0m)              │           \u001b[38;5;34m153\u001b[0m │\n",
       "└─────────────────────────────────┴────────────────────────┴───────────────┘\n"
      ]
     },
     "metadata": {},
     "output_type": "display_data"
    },
    {
     "data": {
      "text/html": [
       "<pre style=\"white-space:pre;overflow-x:auto;line-height:normal;font-family:Menlo,'DejaVu Sans Mono',consolas,'Courier New',monospace\"><span style=\"font-weight: bold\"> Total params: </span><span style=\"color: #00af00; text-decoration-color: #00af00\">1,742</span> (6.80 KB)\n",
       "</pre>\n"
      ],
      "text/plain": [
       "\u001b[1m Total params: \u001b[0m\u001b[38;5;34m1,742\u001b[0m (6.80 KB)\n"
      ]
     },
     "metadata": {},
     "output_type": "display_data"
    },
    {
     "data": {
      "text/html": [
       "<pre style=\"white-space:pre;overflow-x:auto;line-height:normal;font-family:Menlo,'DejaVu Sans Mono',consolas,'Courier New',monospace\"><span style=\"font-weight: bold\"> Trainable params: </span><span style=\"color: #00af00; text-decoration-color: #00af00\">1,742</span> (6.80 KB)\n",
       "</pre>\n"
      ],
      "text/plain": [
       "\u001b[1m Trainable params: \u001b[0m\u001b[38;5;34m1,742\u001b[0m (6.80 KB)\n"
      ]
     },
     "metadata": {},
     "output_type": "display_data"
    },
    {
     "data": {
      "text/html": [
       "<pre style=\"white-space:pre;overflow-x:auto;line-height:normal;font-family:Menlo,'DejaVu Sans Mono',consolas,'Courier New',monospace\"><span style=\"font-weight: bold\"> Non-trainable params: </span><span style=\"color: #00af00; text-decoration-color: #00af00\">0</span> (0.00 B)\n",
       "</pre>\n"
      ],
      "text/plain": [
       "\u001b[1m Non-trainable params: \u001b[0m\u001b[38;5;34m0\u001b[0m (0.00 B)\n"
      ]
     },
     "metadata": {},
     "output_type": "display_data"
    }
   ],
   "source": [
    "import numpy as np\n",
    "from tensorflow.keras.layers import Input, Dense\n",
    "from tensorflow.keras.models import Model\n",
    "from tensorflow.keras.optimizers import SGD\n",
    "from tensorflow.keras.utils import to_categorical\n",
    "from sklearn.cluster import KMeans\n",
    "import keras_tuner as kt\n",
    "from tensorflow.keras.regularizers import l2\n",
    "\n",
    "\n",
    "def build_model(hp):\n",
    "    input_dim = cities_clean_scaled.shape[1]\n",
    "\n",
    "    # Latent dimension: keep it small for low-dim input\n",
    "    latent_dim = hp.Int('latent_dim', min_value=2, max_value=5)\n",
    "\n",
    "    # Input layer\n",
    "    input_layer = Input(shape=(input_dim,))\n",
    "\n",
    "    # Encoder: 1–2 layers with smaller size\n",
    "    encoder = Dense(hp.Choice('encoder_1_units', values=[16, 32, 48]), activation='relu', kernel_regularizer=l2(1e-4))(input_layer)\n",
    "    encoder = Dense(hp.Choice('encoder_2_units', values=[16, 32]), activation='relu', kernel_regularizer=l2(1e-4))(encoder)\n",
    "\n",
    "    # Latent space\n",
    "    latent_space = Dense(latent_dim, activation='relu')(encoder)\n",
    "\n",
    "    # Decoder\n",
    "    decoder = Dense(hp.Choice('decoder_1_units', values=[16, 32, 48]), activation='relu', kernel_regularizer=l2(1e-4))(latent_space)\n",
    "    decoder = Dense(hp.Choice('decoder_2_units', values=[16, 32]), activation='relu', kernel_regularizer=l2(1e-4))(decoder)\n",
    "\n",
    "    # Output layer\n",
    "    output_layer = Dense(input_dim, activation='sigmoid')(decoder)\n",
    "\n",
    "    # Build model\n",
    "    model = Model(inputs=input_layer, outputs=output_layer)\n",
    "\n",
    "    # Compile with Adam optimizer and tuned learning rate\n",
    "    model.compile(optimizer=Adam(learning_rate=hp.Float('learning_rate', min_value=1e-4, max_value=1e-2, sampling='log')), loss='mse')\n",
    "\n",
    "    return model\n",
    "\n",
    "# Instantiate the tuner\n",
    "tuner = kt.Hyperband(\n",
    "    build_model,\n",
    "    objective='val_loss',\n",
    "    max_epochs=200,\n",
    "    factor=3,\n",
    "    directory='hyperband',\n",
    "    project_name='DEC_model_tuning_run3'\n",
    ")\n",
    "\n",
    "# Set the search space for the hyperparameters and start the search\n",
    "tuner.search(cities_clean_scaled, cities_clean_scaled, epochs=200, batch_size=32, validation_split=0.2)\n",
    "\n",
    "# Get the best model after hyperparameter tuning\n",
    "best_model = tuner.get_best_models(num_models=1)[0]\n",
    "\n",
    "# Evaluate the best model\n",
    "best_model.summary()\n"
   ]
  },
  {
   "cell_type": "code",
   "execution_count": 12,
   "id": "9a7ac5a7-0b99-46a6-996c-677cf97d319b",
   "metadata": {},
   "outputs": [
    {
     "name": "stdout",
     "output_type": "stream",
     "text": [
      "Results summary\n",
      "Results in hyperband/DEC_model_tuning_run3\n",
      "Showing 10 best trials\n",
      "Objective(name=\"val_loss\", direction=\"min\")\n",
      "\n",
      "Trial 0204 summary\n",
      "Hyperparameters:\n",
      "latent_dim: 5\n",
      "encoder_1_units: 16\n",
      "encoder_2_units: 16\n",
      "decoder_1_units: 48\n",
      "decoder_2_units: 16\n",
      "learning_rate: 0.0028298401894457986\n",
      "tuner/epochs: 200\n",
      "tuner/initial_epoch: 67\n",
      "tuner/bracket: 3\n",
      "tuner/round: 3\n",
      "tuner/trial_id: 0199\n",
      "Score: 0.3714052438735962\n",
      "\n",
      "Trial 0230 summary\n",
      "Hyperparameters:\n",
      "latent_dim: 5\n",
      "encoder_1_units: 32\n",
      "encoder_2_units: 16\n",
      "decoder_1_units: 48\n",
      "decoder_2_units: 32\n",
      "learning_rate: 0.001407297559094673\n",
      "tuner/epochs: 200\n",
      "tuner/initial_epoch: 67\n",
      "tuner/bracket: 2\n",
      "tuner/round: 2\n",
      "tuner/trial_id: 0224\n",
      "Score: 0.37166181206703186\n",
      "\n",
      "Trial 0224 summary\n",
      "Hyperparameters:\n",
      "latent_dim: 5\n",
      "encoder_1_units: 32\n",
      "encoder_2_units: 16\n",
      "decoder_1_units: 48\n",
      "decoder_2_units: 32\n",
      "learning_rate: 0.001407297559094673\n",
      "tuner/epochs: 67\n",
      "tuner/initial_epoch: 23\n",
      "tuner/bracket: 2\n",
      "tuner/round: 1\n",
      "tuner/trial_id: 0208\n",
      "Score: 0.373857706785202\n",
      "\n",
      "Trial 0199 summary\n",
      "Hyperparameters:\n",
      "latent_dim: 5\n",
      "encoder_1_units: 16\n",
      "encoder_2_units: 16\n",
      "decoder_1_units: 48\n",
      "decoder_2_units: 16\n",
      "learning_rate: 0.0028298401894457986\n",
      "tuner/epochs: 67\n",
      "tuner/initial_epoch: 23\n",
      "tuner/bracket: 3\n",
      "tuner/round: 2\n",
      "tuner/trial_id: 0185\n",
      "Score: 0.3739546537399292\n",
      "\n",
      "Trial 0246 summary\n",
      "Hyperparameters:\n",
      "latent_dim: 5\n",
      "encoder_1_units: 32\n",
      "encoder_2_units: 32\n",
      "decoder_1_units: 48\n",
      "decoder_2_units: 32\n",
      "learning_rate: 0.0015185965795089266\n",
      "tuner/epochs: 200\n",
      "tuner/initial_epoch: 0\n",
      "tuner/bracket: 0\n",
      "tuner/round: 0\n",
      "Score: 0.37451431155204773\n",
      "\n",
      "Trial 0143 summary\n",
      "Hyperparameters:\n",
      "latent_dim: 5\n",
      "encoder_1_units: 48\n",
      "encoder_2_units: 32\n",
      "decoder_1_units: 16\n",
      "decoder_2_units: 16\n",
      "learning_rate: 0.0046862973390983135\n",
      "tuner/epochs: 200\n",
      "tuner/initial_epoch: 67\n",
      "tuner/bracket: 4\n",
      "tuner/round: 4\n",
      "tuner/trial_id: 0140\n",
      "Score: 0.3747086524963379\n",
      "\n",
      "Trial 0205 summary\n",
      "Hyperparameters:\n",
      "latent_dim: 5\n",
      "encoder_1_units: 16\n",
      "encoder_2_units: 16\n",
      "decoder_1_units: 32\n",
      "decoder_2_units: 16\n",
      "learning_rate: 0.006294020886804398\n",
      "tuner/epochs: 200\n",
      "tuner/initial_epoch: 67\n",
      "tuner/bracket: 3\n",
      "tuner/round: 3\n",
      "tuner/trial_id: 0200\n",
      "Score: 0.3753831684589386\n",
      "\n",
      "Trial 0140 summary\n",
      "Hyperparameters:\n",
      "latent_dim: 5\n",
      "encoder_1_units: 48\n",
      "encoder_2_units: 32\n",
      "decoder_1_units: 16\n",
      "decoder_2_units: 16\n",
      "learning_rate: 0.0046862973390983135\n",
      "tuner/epochs: 67\n",
      "tuner/initial_epoch: 23\n",
      "tuner/bracket: 4\n",
      "tuner/round: 3\n",
      "tuner/trial_id: 0130\n",
      "Score: 0.3760012686252594\n",
      "\n",
      "Trial 0200 summary\n",
      "Hyperparameters:\n",
      "latent_dim: 5\n",
      "encoder_1_units: 16\n",
      "encoder_2_units: 16\n",
      "decoder_1_units: 32\n",
      "decoder_2_units: 16\n",
      "learning_rate: 0.006294020886804398\n",
      "tuner/epochs: 67\n",
      "tuner/initial_epoch: 23\n",
      "tuner/bracket: 3\n",
      "tuner/round: 2\n",
      "tuner/trial_id: 0186\n",
      "Score: 0.37674370408058167\n",
      "\n",
      "Trial 0141 summary\n",
      "Hyperparameters:\n",
      "latent_dim: 5\n",
      "encoder_1_units: 48\n",
      "encoder_2_units: 32\n",
      "decoder_1_units: 32\n",
      "decoder_2_units: 32\n",
      "learning_rate: 0.0018178305637889431\n",
      "tuner/epochs: 67\n",
      "tuner/initial_epoch: 23\n",
      "tuner/bracket: 4\n",
      "tuner/round: 3\n",
      "tuner/trial_id: 0131\n",
      "Score: 0.3782683312892914\n"
     ]
    }
   ],
   "source": [
    "# results\n",
    "tuner.results_summary()\n"
   ]
  },
  {
   "cell_type": "code",
   "execution_count": 13,
   "id": "c2e2dbf4-c54b-47b3-b63d-16679a618063",
   "metadata": {
    "scrolled": true
   },
   "outputs": [
    {
     "data": {
      "text/html": [
       "<pre style=\"white-space:pre;overflow-x:auto;line-height:normal;font-family:Menlo,'DejaVu Sans Mono',consolas,'Courier New',monospace\"><span style=\"font-weight: bold\">Model: \"functional\"</span>\n",
       "</pre>\n"
      ],
      "text/plain": [
       "\u001b[1mModel: \"functional\"\u001b[0m\n"
      ]
     },
     "metadata": {},
     "output_type": "display_data"
    },
    {
     "data": {
      "text/html": [
       "<pre style=\"white-space:pre;overflow-x:auto;line-height:normal;font-family:Menlo,'DejaVu Sans Mono',consolas,'Courier New',monospace\">┏━━━━━━━━━━━━━━━━━━━━━━━━━━━━━━━━━┳━━━━━━━━━━━━━━━━━━━━━━━━┳━━━━━━━━━━━━━━━┓\n",
       "┃<span style=\"font-weight: bold\"> Layer (type)                    </span>┃<span style=\"font-weight: bold\"> Output Shape           </span>┃<span style=\"font-weight: bold\">       Param # </span>┃\n",
       "┡━━━━━━━━━━━━━━━━━━━━━━━━━━━━━━━━━╇━━━━━━━━━━━━━━━━━━━━━━━━╇━━━━━━━━━━━━━━━┩\n",
       "│ input_layer (<span style=\"color: #0087ff; text-decoration-color: #0087ff\">InputLayer</span>)        │ (<span style=\"color: #00d7ff; text-decoration-color: #00d7ff\">None</span>, <span style=\"color: #00af00; text-decoration-color: #00af00\">9</span>)              │             <span style=\"color: #00af00; text-decoration-color: #00af00\">0</span> │\n",
       "├─────────────────────────────────┼────────────────────────┼───────────────┤\n",
       "│ dense (<span style=\"color: #0087ff; text-decoration-color: #0087ff\">Dense</span>)                   │ (<span style=\"color: #00d7ff; text-decoration-color: #00d7ff\">None</span>, <span style=\"color: #00af00; text-decoration-color: #00af00\">16</span>)             │           <span style=\"color: #00af00; text-decoration-color: #00af00\">160</span> │\n",
       "├─────────────────────────────────┼────────────────────────┼───────────────┤\n",
       "│ dense_1 (<span style=\"color: #0087ff; text-decoration-color: #0087ff\">Dense</span>)                 │ (<span style=\"color: #00d7ff; text-decoration-color: #00d7ff\">None</span>, <span style=\"color: #00af00; text-decoration-color: #00af00\">16</span>)             │           <span style=\"color: #00af00; text-decoration-color: #00af00\">272</span> │\n",
       "├─────────────────────────────────┼────────────────────────┼───────────────┤\n",
       "│ dense_2 (<span style=\"color: #0087ff; text-decoration-color: #0087ff\">Dense</span>)                 │ (<span style=\"color: #00d7ff; text-decoration-color: #00d7ff\">None</span>, <span style=\"color: #00af00; text-decoration-color: #00af00\">5</span>)              │            <span style=\"color: #00af00; text-decoration-color: #00af00\">85</span> │\n",
       "├─────────────────────────────────┼────────────────────────┼───────────────┤\n",
       "│ dense_3 (<span style=\"color: #0087ff; text-decoration-color: #0087ff\">Dense</span>)                 │ (<span style=\"color: #00d7ff; text-decoration-color: #00d7ff\">None</span>, <span style=\"color: #00af00; text-decoration-color: #00af00\">48</span>)             │           <span style=\"color: #00af00; text-decoration-color: #00af00\">288</span> │\n",
       "├─────────────────────────────────┼────────────────────────┼───────────────┤\n",
       "│ dense_4 (<span style=\"color: #0087ff; text-decoration-color: #0087ff\">Dense</span>)                 │ (<span style=\"color: #00d7ff; text-decoration-color: #00d7ff\">None</span>, <span style=\"color: #00af00; text-decoration-color: #00af00\">16</span>)             │           <span style=\"color: #00af00; text-decoration-color: #00af00\">784</span> │\n",
       "├─────────────────────────────────┼────────────────────────┼───────────────┤\n",
       "│ dense_5 (<span style=\"color: #0087ff; text-decoration-color: #0087ff\">Dense</span>)                 │ (<span style=\"color: #00d7ff; text-decoration-color: #00d7ff\">None</span>, <span style=\"color: #00af00; text-decoration-color: #00af00\">9</span>)              │           <span style=\"color: #00af00; text-decoration-color: #00af00\">153</span> │\n",
       "└─────────────────────────────────┴────────────────────────┴───────────────┘\n",
       "</pre>\n"
      ],
      "text/plain": [
       "┏━━━━━━━━━━━━━━━━━━━━━━━━━━━━━━━━━┳━━━━━━━━━━━━━━━━━━━━━━━━┳━━━━━━━━━━━━━━━┓\n",
       "┃\u001b[1m \u001b[0m\u001b[1mLayer (type)                   \u001b[0m\u001b[1m \u001b[0m┃\u001b[1m \u001b[0m\u001b[1mOutput Shape          \u001b[0m\u001b[1m \u001b[0m┃\u001b[1m \u001b[0m\u001b[1m      Param #\u001b[0m\u001b[1m \u001b[0m┃\n",
       "┡━━━━━━━━━━━━━━━━━━━━━━━━━━━━━━━━━╇━━━━━━━━━━━━━━━━━━━━━━━━╇━━━━━━━━━━━━━━━┩\n",
       "│ input_layer (\u001b[38;5;33mInputLayer\u001b[0m)        │ (\u001b[38;5;45mNone\u001b[0m, \u001b[38;5;34m9\u001b[0m)              │             \u001b[38;5;34m0\u001b[0m │\n",
       "├─────────────────────────────────┼────────────────────────┼───────────────┤\n",
       "│ dense (\u001b[38;5;33mDense\u001b[0m)                   │ (\u001b[38;5;45mNone\u001b[0m, \u001b[38;5;34m16\u001b[0m)             │           \u001b[38;5;34m160\u001b[0m │\n",
       "├─────────────────────────────────┼────────────────────────┼───────────────┤\n",
       "│ dense_1 (\u001b[38;5;33mDense\u001b[0m)                 │ (\u001b[38;5;45mNone\u001b[0m, \u001b[38;5;34m16\u001b[0m)             │           \u001b[38;5;34m272\u001b[0m │\n",
       "├─────────────────────────────────┼────────────────────────┼───────────────┤\n",
       "│ dense_2 (\u001b[38;5;33mDense\u001b[0m)                 │ (\u001b[38;5;45mNone\u001b[0m, \u001b[38;5;34m5\u001b[0m)              │            \u001b[38;5;34m85\u001b[0m │\n",
       "├─────────────────────────────────┼────────────────────────┼───────────────┤\n",
       "│ dense_3 (\u001b[38;5;33mDense\u001b[0m)                 │ (\u001b[38;5;45mNone\u001b[0m, \u001b[38;5;34m48\u001b[0m)             │           \u001b[38;5;34m288\u001b[0m │\n",
       "├─────────────────────────────────┼────────────────────────┼───────────────┤\n",
       "│ dense_4 (\u001b[38;5;33mDense\u001b[0m)                 │ (\u001b[38;5;45mNone\u001b[0m, \u001b[38;5;34m16\u001b[0m)             │           \u001b[38;5;34m784\u001b[0m │\n",
       "├─────────────────────────────────┼────────────────────────┼───────────────┤\n",
       "│ dense_5 (\u001b[38;5;33mDense\u001b[0m)                 │ (\u001b[38;5;45mNone\u001b[0m, \u001b[38;5;34m9\u001b[0m)              │           \u001b[38;5;34m153\u001b[0m │\n",
       "└─────────────────────────────────┴────────────────────────┴───────────────┘\n"
      ]
     },
     "metadata": {},
     "output_type": "display_data"
    },
    {
     "data": {
      "text/html": [
       "<pre style=\"white-space:pre;overflow-x:auto;line-height:normal;font-family:Menlo,'DejaVu Sans Mono',consolas,'Courier New',monospace\"><span style=\"font-weight: bold\"> Total params: </span><span style=\"color: #00af00; text-decoration-color: #00af00\">1,742</span> (6.80 KB)\n",
       "</pre>\n"
      ],
      "text/plain": [
       "\u001b[1m Total params: \u001b[0m\u001b[38;5;34m1,742\u001b[0m (6.80 KB)\n"
      ]
     },
     "metadata": {},
     "output_type": "display_data"
    },
    {
     "data": {
      "text/html": [
       "<pre style=\"white-space:pre;overflow-x:auto;line-height:normal;font-family:Menlo,'DejaVu Sans Mono',consolas,'Courier New',monospace\"><span style=\"font-weight: bold\"> Trainable params: </span><span style=\"color: #00af00; text-decoration-color: #00af00\">1,742</span> (6.80 KB)\n",
       "</pre>\n"
      ],
      "text/plain": [
       "\u001b[1m Trainable params: \u001b[0m\u001b[38;5;34m1,742\u001b[0m (6.80 KB)\n"
      ]
     },
     "metadata": {},
     "output_type": "display_data"
    },
    {
     "data": {
      "text/html": [
       "<pre style=\"white-space:pre;overflow-x:auto;line-height:normal;font-family:Menlo,'DejaVu Sans Mono',consolas,'Courier New',monospace\"><span style=\"font-weight: bold\"> Non-trainable params: </span><span style=\"color: #00af00; text-decoration-color: #00af00\">0</span> (0.00 B)\n",
       "</pre>\n"
      ],
      "text/plain": [
       "\u001b[1m Non-trainable params: \u001b[0m\u001b[38;5;34m0\u001b[0m (0.00 B)\n"
      ]
     },
     "metadata": {},
     "output_type": "display_data"
    },
    {
     "data": {
      "text/plain": [
       "[<InputLayer name=input_layer, built=True>,\n",
       " <Dense name=dense, built=True>,\n",
       " <Dense name=dense_1, built=True>,\n",
       " <Dense name=dense_2, built=True>,\n",
       " <Dense name=dense_3, built=True>,\n",
       " <Dense name=dense_4, built=True>,\n",
       " <Dense name=dense_5, built=True>]"
      ]
     },
     "execution_count": 13,
     "metadata": {},
     "output_type": "execute_result"
    }
   ],
   "source": [
    "best_model.summary()\n",
    "\n",
    "best_model.layers"
   ]
  },
  {
   "cell_type": "code",
   "execution_count": 15,
   "id": "48287b7b-ce38-492c-aea0-19b1098bf384",
   "metadata": {},
   "outputs": [
    {
     "name": "stdout",
     "output_type": "stream",
     "text": [
      "\u001b[1m357/357\u001b[0m \u001b[32m━━━━━━━━━━━━━━━━━━━━\u001b[0m\u001b[37m\u001b[0m \u001b[1m0s\u001b[0m 290us/step\n",
      "scores computed for 3\n",
      "scores computed for 4\n",
      "scores computed for 5\n",
      "scores computed for 6\n",
      "scores computed for 7\n",
      "scores computed for 8\n",
      "scores computed for 9\n",
      "scores computed for 10\n",
      "scores computed for 11\n",
      "scores computed for 12\n",
      "scores computed for 13\n",
      "scores computed for 14\n",
      "scores computed for 15\n",
      "scores computed for 16\n",
      "scores computed for 17\n",
      "scores computed for 18\n",
      "scores computed for 19\n",
      "scores computed for 20\n",
      "scores computed for 21\n",
      "scores computed for 22\n",
      "scores computed for 23\n",
      "scores computed for 24\n",
      "scores computed for 25\n",
      "scores computed for 26\n",
      "scores computed for 27\n",
      "scores computed for 28\n",
      "scores computed for 29\n",
      "scores computed for 30\n",
      "scores computed for 31\n",
      "scores computed for 32\n",
      "scores computed for 33\n",
      "scores computed for 34\n",
      "scores computed for 35\n",
      "scores computed for 36\n",
      "scores computed for 37\n",
      "scores computed for 38\n",
      "scores computed for 39\n",
      "scores computed for 40\n",
      "scores computed for 41\n",
      "scores computed for 42\n",
      "scores computed for 43\n",
      "scores computed for 44\n",
      "scores computed for 45\n",
      "scores computed for 46\n",
      "scores computed for 47\n",
      "scores computed for 48\n",
      "scores computed for 49\n",
      "scores computed for 50\n"
     ]
    }
   ],
   "source": [
    "import numpy as np\n",
    "import pandas as pd\n",
    "from sklearn.metrics import silhouette_score, adjusted_rand_score, normalized_mutual_info_score\n",
    "from sklearn.decomposition import PCA\n",
    "from sklearn.manifold import TSNE\n",
    "from sklearn.cluster import KMeans, AgglomerativeClustering\n",
    "import matplotlib.pyplot as plt\n",
    "silhouette_scores = {\n",
    "        'DEC': [],\n",
    "        'KMeans': [],\n",
    "        'Hierarchical': []\n",
    "    }\n",
    "min_clusters=3\n",
    "max_clusters=50\n",
    "cluster_range = range(min_clusters, max_clusters + 1)\n",
    "\n",
    "data = cities_clean_scaled\n",
    "# Get the encoded data for DEC\n",
    "encoded_data = best_model.predict(data)\n",
    "\n",
    "for n_clusters in cluster_range:\n",
    "    # DEC clustering\n",
    "    kmeans_dec = KMeans(n_clusters=n_clusters, n_init=20, random_state=42)\n",
    "    y_pred_dec = kmeans_dec.fit_predict(encoded_data)\n",
    "    sil_score_dec = silhouette_score(encoded_data, y_pred_dec)\n",
    "    silhouette_scores['DEC'].append(sil_score_dec)\n",
    "        \n",
    "    # K-Means clustering\n",
    "    kmeans = KMeans(n_clusters=n_clusters, n_init=20, random_state=42)\n",
    "    y_pred_kmeans = kmeans.fit_predict(data)    \n",
    "    sil_score_kmeans = silhouette_score(data, y_pred_kmeans)\n",
    "    silhouette_scores['KMeans'].append(sil_score_kmeans)\n",
    "        \n",
    "    # Hierarchical clustering\n",
    "    hierarchical = AgglomerativeClustering(n_clusters=n_clusters)\n",
    "    y_pred_hierarchical = hierarchical.fit_predict(data)\n",
    "    sil_score_hierarchical = silhouette_score(data, y_pred_hierarchical)\n",
    "    silhouette_scores['Hierarchical'].append(sil_score_hierarchical)\n",
    "    \n",
    "    print(f\"scores computed for {n_clusters}\")"
   ]
  },
  {
   "cell_type": "code",
   "execution_count": 18,
   "id": "86b2ca6b-6947-4e42-aaa8-5abb835f8040",
   "metadata": {},
   "outputs": [
    {
     "data": {
      "image/png": "[encoded data removed]",
      "text/plain": [
       "<Figure size 1000x700 with 1 Axes>"
      ]
     },
     "metadata": {},
     "output_type": "display_data"
    }
   ],
   "source": [
    "# Plotting the silhouette scores\n",
    "plt.figure(figsize=(10, 7))\n",
    "plt.plot(cluster_range, silhouette_scores['DEC'], marker='o', label='DEC')\n",
    "plt.plot(cluster_range, silhouette_scores['KMeans'], marker='s', label='KMeans')\n",
    "plt.plot(cluster_range, silhouette_scores['Hierarchical'], marker='^', label='Hierarchical')\n",
    "plt.xlabel('Number of Clusters')\n",
    "plt.ylabel('Silhouette Score')\n",
    "plt.title('Silhouette Scores for Different Clustering Methods')\n",
    "plt.legend()\n",
    "plt.show()"
   ]
  },
  {
   "cell_type": "code",
   "execution_count": 19,
   "id": "a2114b4d-92a4-415d-9467-55865df2646a",
   "metadata": {},
   "outputs": [
    {
     "name": "stdout",
     "output_type": "stream",
     "text": [
      "        DEC    KMeans  Hierarchical  cluster_range\n",
      "0  0.269791  0.261292      0.226885              3\n",
      "1  0.279565  0.262170      0.237455              4\n",
      "2  0.294742  0.266552      0.241827              5\n",
      "3  0.296288  0.264294      0.231868              6\n",
      "4  0.313305  0.218324      0.194913              7\n"
     ]
    }
   ],
   "source": [
    "# Convert to DataFrame\n",
    "silhouette_scores = pd.DataFrame(silhouette_scores)\n",
    "silhouette_scores[\"cluster_range\"] = list(range(min_clusters, max_clusters + 1))\n",
    "\n",
    "# Take a peek\n",
    "print(silhouette_scores.head())\n",
    "\n",
    "silhouette_scores.to_csv(\"data/clustering_results/silhouette_scores_run3.csv\", index=False)"
   ]
  },
  {
   "cell_type": "code",
   "execution_count": null,
   "id": "85b5f4b9-018d-48a2-a2e2-2552779c91af",
   "metadata": {},
   "outputs": [
    {
     "name": "stdout",
     "output_type": "stream",
     "text": [
      "3\n",
      "Clustering done for k=3, stored as y_pred_dec_03\n",
      "4\n",
      "Clustering done for k=4, stored as y_pred_dec_04\n",
      "5\n",
      "Clustering done for k=5, stored as y_pred_dec_05\n",
      "6\n",
      "Clustering done for k=6, stored as y_pred_dec_06\n",
      "7\n",
      "Clustering done for k=7, stored as y_pred_dec_07\n",
      "8\n",
      "Clustering done for k=8, stored as y_pred_dec_08\n",
      "9\n",
      "Clustering done for k=9, stored as y_pred_dec_09\n",
      "10\n",
      "Clustering done for k=10, stored as y_pred_dec_10\n",
      "11\n",
      "Clustering done for k=11, stored as y_pred_dec_11\n",
      "12\n",
      "Clustering done for k=12, stored as y_pred_dec_12\n",
      "13\n",
      "Clustering done for k=13, stored as y_pred_dec_13\n",
      "14\n",
      "Clustering done for k=14, stored as y_pred_dec_14\n",
      "15\n",
      "Clustering done for k=15, stored as y_pred_dec_15\n",
      "16\n",
      "Clustering done for k=16, stored as y_pred_dec_16\n",
      "17\n",
      "Clustering done for k=17, stored as y_pred_dec_17\n",
      "18\n",
      "Clustering done for k=18, stored as y_pred_dec_18\n",
      "19\n",
      "Clustering done for k=19, stored as y_pred_dec_19\n",
      "20\n",
      "Clustering done for k=20, stored as y_pred_dec_20\n",
      "21\n",
      "Clustering done for k=21, stored as y_pred_dec_21\n",
      "22\n",
      "Clustering done for k=22, stored as y_pred_dec_22\n",
      "23\n",
      "Clustering done for k=23, stored as y_pred_dec_23\n",
      "24\n",
      "Clustering done for k=24, stored as y_pred_dec_24\n",
      "25\n",
      "Clustering done for k=25, stored as y_pred_dec_25\n",
      "26\n",
      "Clustering done for k=26, stored as y_pred_dec_26\n",
      "27\n",
      "Clustering done for k=27, stored as y_pred_dec_27\n",
      "28\n",
      "Clustering done for k=28, stored as y_pred_dec_28\n",
      "29\n",
      "Clustering done for k=29, stored as y_pred_dec_29\n",
      "30\n",
      "Clustering done for k=30, stored as y_pred_dec_30\n"
     ]
    }
   ],
   "source": [
    "\n",
    "# List to store the column names\n",
    "col_names = []\n",
    "\n",
    "# Loop through different cluster sizes\n",
    "for k in cluster_range:\n",
    "    kmeans = KMeans(n_clusters=k, n_init=20, random_state=42)\n",
    "    y_pred = kmeans.fit_predict(encoded_data)\n",
    "    y_pred = y_pred +1\n",
    "    \n",
    "    print(k)\n",
    "    \n",
    "    # Ensure k is a string in the desired format\n",
    "    if k <= 9:\n",
    "        k_str = \"0\" + str(k)  # Format as \"03\", \"04\", etc.\n",
    "    else:\n",
    "        k_str = str(k)  # Format as \"10\", \"11\", etc.\n",
    "        \n",
    "    # Also add it to the cities_clean_sub DataFrame\n",
    "    column_name = \"y_pred_dec_\" + k_str\n",
    "    cities_clean_sub[column_name] = y_pred\n",
    "\n",
    "    print(f\"Clustering done for k={k}, stored as {column_name}\")\n",
    "    \n",
    "    # Add the column name to the list for sorting later\n",
    "    col_names.append(column_name)\n",
    "\n",
    "print(cities_clean_sub)\n"
   ]
  },
  {
   "cell_type": "code",
   "execution_count": null,
   "id": "0769cec2-1535-429b-8c31-5778a93679e7",
   "metadata": {},
   "outputs": [],
   "source": [
    "# Reorder the columns in the DataFrame\n",
    "cities_clean_sub[['y_pred_dec_' + str(k).zfill(2) for k in cluster_range]] = cities_clean_sub[['y_pred_dec_' + str(k).zfill(2) for k in cluster_range]]\n",
    "\n",
    "print(cities_clean_sub)"
   ]
  },
  {
   "cell_type": "code",
   "execution_count": 44,
   "id": "d3654414-4b9f-498d-9ba4-37c1cffee474",
   "metadata": {},
   "outputs": [
    {
     "name": "stdout",
     "output_type": "stream",
     "text": [
      "1269\n",
      "1050\n",
      "1090\n",
      "2272\n",
      "1043\n",
      "1027\n",
      "853\n",
      "668\n",
      "1345\n",
      "805\n",
      "     representative_city  GHS_urban_area_id\n",
      "1_1       representative              11402\n",
      "1_2       representative               6860\n",
      "1_3       representative               8902\n",
      "1_4       representative               7411\n",
      "1_5       representative               7475\n",
      "2_1       representative               4496\n",
      "2_2       representative               5861\n",
      "2_3       representative               4415\n",
      "2_4       representative               5760\n",
      "2_5       representative                281\n",
      "3_1       representative               7800\n",
      "3_2       representative                 64\n",
      "3_3       representative               7376\n",
      "3_4       representative               1392\n",
      "3_5       representative               1864\n",
      "4_1       representative               8872\n",
      "4_2       representative               9178\n",
      "4_3       representative               8634\n",
      "4_4       representative               8360\n",
      "4_5       representative               9124\n",
      "5_1       representative              10475\n",
      "5_2       representative              11149\n",
      "5_3       representative              10723\n",
      "5_4       representative              11193\n",
      "5_5       representative              10775\n",
      "6_1       representative                 67\n",
      "6_2       representative               3608\n",
      "6_3       representative               3803\n",
      "6_4       representative               3123\n",
      "6_5       representative               4337\n",
      "7_1       representative               5976\n",
      "7_2       representative               5957\n",
      "7_3       representative               1212\n",
      "7_4       representative               3755\n",
      "7_5       representative               4493\n",
      "8_1       representative               6132\n",
      "8_2       representative               6024\n",
      "8_3       representative               6787\n",
      "8_4       representative               2470\n",
      "8_5       representative               6890\n",
      "9_1       representative               7628\n",
      "9_2       representative               5025\n",
      "9_3       representative               7612\n",
      "9_4       representative               8058\n",
      "9_5       representative               6788\n",
      "10_1      representative               9089\n",
      "10_2      representative              10329\n",
      "10_3      representative              10505\n",
      "10_4      representative               8775\n",
      "10_5      representative               9083\n"
     ]
    }
   ],
   "source": [
    "import numpy as np\n",
    "import pandas as pd\n",
    "from sklearn.metrics import pairwise_distances\n",
    "\n",
    "# Initialize a dictionary to store the most representative cities_clean in each cluster\n",
    "representative_cities_clean = {}\n",
    "\n",
    "n_representatives = 5  # Specify the number of representative cities_clean per cluster\n",
    "n_clusters = 10\n",
    "\n",
    "# Calculate the most representative cities_clean in each cluster\n",
    "for cluster in range(1, n_clusters+1):\n",
    "    cluster_indices = np.where(cities_clean_sub[['y_pred_dec_' + str(n_clusters).zfill(2)]] == cluster)[0]\n",
    "    cluster_data = cities_clean_scaled[cluster_indices]\n",
    "    \n",
    "    print(len(cluster_data))\n",
    "\n",
    "    # Calculate pairwise distances within the cluster\n",
    "    distances = pairwise_distances(cluster_data)\n",
    "    \n",
    "    # Compute the average distance for each city to all other cities_clean in the cluster\n",
    "    avg_distances = distances.mean(axis=1)\n",
    "    \n",
    "    # Find the indices of the n_representatives cities_clean with the smallest average distance\n",
    "    most_representative_indices = cluster_indices[np.argsort(avg_distances)[:n_representatives]]\n",
    "\n",
    "    # print(most_representative_indices)\n",
    "    \n",
    "    # Add the most representative cities_clean to the dictionary\n",
    "    for i, index in enumerate(most_representative_indices):\n",
    "        representative_city = cities_clean.iloc[index].copy()\n",
    "        representative_city['Cluster'] = cluster\n",
    "        representative_city['GHS_urban_area_id'] = cities_clean.iloc[index]['GHS_urban_area_id']\n",
    "        # Use a unique key for each representative city\n",
    "        key = f\"{cluster}_{i+1}\"\n",
    "        representative_cities_clean[key] = representative_city\n",
    "    \n",
    "        # print(\"Cluster representative city id:\", cities_clean.iloc[index]['GHS_urban_area_id'])\n",
    "\n",
    "# Convert the dictionary to a DataFrame for better readability\n",
    "representative_cities_clean_df = pd.DataFrame.from_dict(representative_cities_clean, orient='index')\n",
    "\n",
    "representative_cities_clean_df[\"representative_city\"] =  \"representative\"\n",
    "\n",
    "print(representative_cities_clean_df[[\"representative_city\", \"GHS_urban_area_id\"]])"
   ]
  },
  {
   "cell_type": "code",
   "execution_count": null,
   "id": "b7b0ce4b-edf1-42ca-b17b-ef462a1c2dfa",
   "metadata": {},
   "outputs": [],
   "source": [
    "representative_cities_clean_df['GHS_urban_area_id'] = representative_cities_clean_df['GHS_urban_area_id'].astype(int)\n",
    "ghsl['ID_UC_G0'] = ghsl['ID_UC_G0'].astype(int)"
   ]
  },
  {
   "cell_type": "code",
   "execution_count": null,
   "id": "bc78ce2d-00c6-4e04-bce3-001d223b729e",
   "metadata": {
    "scrolled": true
   },
   "outputs": [],
   "source": [
    "# Now perform a left join with the original cities_clean_df on 'GHS_urban_area_id'\n",
    "cities_clean_sub_rep = cities_clean_sub.merge(\n",
    "    representative_cities_clean_df[[\"representative_city\", \"GHS_urban_area_id\"]], \n",
    "    on = 'GHS_urban_area_id', how = \"left\")\n",
    "\n",
    "cities_clean_sub_rep = cities_clean_sub_rep.merge(\n",
    "    cities_clean[['Africa', 'Asia', 'Europe', 'North America', 'Oceania', 'South America', 'GHS_urban_area_id']], \n",
    "    on = 'GHS_urban_area_id', how = \"left\")\n",
    "\n",
    "cities_clean_sub_rep.loc[pd.isna(cities_clean_sub_rep[\"representative_city\"]), \"representative_city\"] = \"non-representative\"\n",
    "\n",
    "# Print the DataFrame of representative cities_clean\n",
    "print(cities_clean_sub_rep[['GHS_urban_area_id', 'representative_city', \"y_pred_dec_10\"]])"
   ]
  },
  {
   "cell_type": "code",
   "execution_count": null,
   "id": "a4644f20-ea86-4289-8f11-7de36c949f6f",
   "metadata": {},
   "outputs": [],
   "source": [
    "# Sort column names numerically\n",
    "# col_names_sorted = sorted(col_names, key=lambda x: int(x.split('_')[-1]))\n",
    "\n",
    "# Save the df\n",
    "filename = 'data/clustering_results/clustering_results_run3.csv'\n",
    "cities_clean_sub_rep.to_csv(filename, index=False)\n",
    "\n",
    "print(f\"Saved as {filename}\")\n"
   ]
  }
 ],
 "metadata": {
  "kernelspec": {
   "display_name": "Python 3 (ipykernel)",
   "language": "python",
   "name": "python3"
  },
  "language_info": {
   "codemirror_mode": {
    "name": "ipython",
    "version": 3
   },
   "file_extension": ".py",
   "mimetype": "text/x-python",
   "name": "python",
   "nbconvert_exporter": "python",
   "pygments_lexer": "ipython3",
   "version": "3.11.8"
  }
 },
 "nbformat": 4,
 "nbformat_minor": 5
}
